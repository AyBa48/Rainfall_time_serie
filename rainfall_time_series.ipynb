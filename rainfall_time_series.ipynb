{
 "cells": [
  {
   "cell_type": "code",
   "execution_count": 1,
   "id": "0c92b185",
   "metadata": {},
   "outputs": [],
   "source": [
    "import pandas as pd \n",
    "import numpy as np\n",
    "import seaborn as sns\n",
    "import matplotlib.pyplot as plt"
   ]
  },
  {
   "cell_type": "code",
   "execution_count": 2,
   "id": "a805d5b8",
   "metadata": {},
   "outputs": [],
   "source": [
    "data = pd.read_csv('rainfall_cleaned.csv', parse_dates=[0], dayfirst=True, index_col = 0)"
   ]
  },
  {
   "cell_type": "code",
   "execution_count": 3,
   "id": "9e962e0a",
   "metadata": {},
   "outputs": [
    {
     "data": {
      "text/html": [
       "<div>\n",
       "<style scoped>\n",
       "    .dataframe tbody tr th:only-of-type {\n",
       "        vertical-align: middle;\n",
       "    }\n",
       "\n",
       "    .dataframe tbody tr th {\n",
       "        vertical-align: top;\n",
       "    }\n",
       "\n",
       "    .dataframe thead th {\n",
       "        text-align: right;\n",
       "    }\n",
       "</style>\n",
       "<table border=\"1\" class=\"dataframe\">\n",
       "  <thead>\n",
       "    <tr style=\"text-align: right;\">\n",
       "      <th></th>\n",
       "      <th>Year</th>\n",
       "      <th>Month</th>\n",
       "      <th>Day</th>\n",
       "      <th>season</th>\n",
       "      <th>Rainfall_St1</th>\n",
       "      <th>Rainfall_St2</th>\n",
       "      <th>Rainfall_St3</th>\n",
       "      <th>Discharge</th>\n",
       "      <th>surface_area_St1</th>\n",
       "      <th>Temp</th>\n",
       "    </tr>\n",
       "    <tr>\n",
       "      <th>Timestamp</th>\n",
       "      <th></th>\n",
       "      <th></th>\n",
       "      <th></th>\n",
       "      <th></th>\n",
       "      <th></th>\n",
       "      <th></th>\n",
       "      <th></th>\n",
       "      <th></th>\n",
       "      <th></th>\n",
       "      <th></th>\n",
       "    </tr>\n",
       "  </thead>\n",
       "  <tbody>\n",
       "    <tr>\n",
       "      <th>1987-09-01</th>\n",
       "      <td>1987</td>\n",
       "      <td>9</td>\n",
       "      <td>1</td>\n",
       "      <td>Autumn</td>\n",
       "      <td>0.0</td>\n",
       "      <td>0.0</td>\n",
       "      <td>NaN</td>\n",
       "      <td>0.128</td>\n",
       "      <td>1000.0</td>\n",
       "      <td>41.5</td>\n",
       "    </tr>\n",
       "    <tr>\n",
       "      <th>1987-09-02</th>\n",
       "      <td>1987</td>\n",
       "      <td>9</td>\n",
       "      <td>2</td>\n",
       "      <td>Autumn</td>\n",
       "      <td>0.0</td>\n",
       "      <td>0.0</td>\n",
       "      <td>NaN</td>\n",
       "      <td>0.128</td>\n",
       "      <td>NaN</td>\n",
       "      <td>44.5</td>\n",
       "    </tr>\n",
       "    <tr>\n",
       "      <th>1987-09-03</th>\n",
       "      <td>1987</td>\n",
       "      <td>9</td>\n",
       "      <td>3</td>\n",
       "      <td>Autumn</td>\n",
       "      <td>0.0</td>\n",
       "      <td>0.0</td>\n",
       "      <td>NaN</td>\n",
       "      <td>0.128</td>\n",
       "      <td>NaN</td>\n",
       "      <td>43.6</td>\n",
       "    </tr>\n",
       "    <tr>\n",
       "      <th>1987-09-04</th>\n",
       "      <td>1987</td>\n",
       "      <td>9</td>\n",
       "      <td>4</td>\n",
       "      <td>Autumn</td>\n",
       "      <td>0.0</td>\n",
       "      <td>0.0</td>\n",
       "      <td>NaN</td>\n",
       "      <td>0.128</td>\n",
       "      <td>NaN</td>\n",
       "      <td>42.8</td>\n",
       "    </tr>\n",
       "    <tr>\n",
       "      <th>1987-09-05</th>\n",
       "      <td>1987</td>\n",
       "      <td>9</td>\n",
       "      <td>5</td>\n",
       "      <td>Autumn</td>\n",
       "      <td>0.0</td>\n",
       "      <td>0.0</td>\n",
       "      <td>NaN</td>\n",
       "      <td>0.128</td>\n",
       "      <td>NaN</td>\n",
       "      <td>44.7</td>\n",
       "    </tr>\n",
       "  </tbody>\n",
       "</table>\n",
       "</div>"
      ],
      "text/plain": [
       "            Year  Month  Day  season  Rainfall_St1  Rainfall_St2  \\\n",
       "Timestamp                                                          \n",
       "1987-09-01  1987      9    1  Autumn           0.0           0.0   \n",
       "1987-09-02  1987      9    2  Autumn           0.0           0.0   \n",
       "1987-09-03  1987      9    3  Autumn           0.0           0.0   \n",
       "1987-09-04  1987      9    4  Autumn           0.0           0.0   \n",
       "1987-09-05  1987      9    5  Autumn           0.0           0.0   \n",
       "\n",
       "            Rainfall_St3  Discharge  surface_area_St1  Temp  \n",
       "Timestamp                                                    \n",
       "1987-09-01           NaN      0.128            1000.0  41.5  \n",
       "1987-09-02           NaN      0.128               NaN  44.5  \n",
       "1987-09-03           NaN      0.128               NaN  43.6  \n",
       "1987-09-04           NaN      0.128               NaN  42.8  \n",
       "1987-09-05           NaN      0.128               NaN  44.7  "
      ]
     },
     "execution_count": 3,
     "metadata": {},
     "output_type": "execute_result"
    }
   ],
   "source": [
    "data.head()"
   ]
  },
  {
   "cell_type": "code",
   "execution_count": 4,
   "id": "c1a79397-7000-4495-9b0a-3508f8296a75",
   "metadata": {},
   "outputs": [
    {
     "data": {
      "text/html": [
       "<div>\n",
       "<style scoped>\n",
       "    .dataframe tbody tr th:only-of-type {\n",
       "        vertical-align: middle;\n",
       "    }\n",
       "\n",
       "    .dataframe tbody tr th {\n",
       "        vertical-align: top;\n",
       "    }\n",
       "\n",
       "    .dataframe thead th {\n",
       "        text-align: right;\n",
       "    }\n",
       "</style>\n",
       "<table border=\"1\" class=\"dataframe\">\n",
       "  <thead>\n",
       "    <tr style=\"text-align: right;\">\n",
       "      <th></th>\n",
       "      <th>Year</th>\n",
       "      <th>Month</th>\n",
       "      <th>Day</th>\n",
       "      <th>Rainfall_St1</th>\n",
       "      <th>Rainfall_St2</th>\n",
       "      <th>Rainfall_St3</th>\n",
       "      <th>Discharge</th>\n",
       "      <th>surface_area_St1</th>\n",
       "      <th>Temp</th>\n",
       "    </tr>\n",
       "  </thead>\n",
       "  <tbody>\n",
       "    <tr>\n",
       "      <th>count</th>\n",
       "      <td>1461.000000</td>\n",
       "      <td>1461.000000</td>\n",
       "      <td>1461.000000</td>\n",
       "      <td>962.000000</td>\n",
       "      <td>1399.000000</td>\n",
       "      <td>337.000000</td>\n",
       "      <td>1461.000000</td>\n",
       "      <td>1.0</td>\n",
       "      <td>1459.000000</td>\n",
       "    </tr>\n",
       "    <tr>\n",
       "      <th>mean</th>\n",
       "      <td>1989.164956</td>\n",
       "      <td>6.522930</td>\n",
       "      <td>15.729637</td>\n",
       "      <td>2.446985</td>\n",
       "      <td>2.681201</td>\n",
       "      <td>16.442433</td>\n",
       "      <td>10.281414</td>\n",
       "      <td>1000.0</td>\n",
       "      <td>30.286977</td>\n",
       "    </tr>\n",
       "    <tr>\n",
       "      <th>std</th>\n",
       "      <td>1.213860</td>\n",
       "      <td>3.449884</td>\n",
       "      <td>8.803105</td>\n",
       "      <td>6.640759</td>\n",
       "      <td>9.295415</td>\n",
       "      <td>22.800884</td>\n",
       "      <td>37.679309</td>\n",
       "      <td>NaN</td>\n",
       "      <td>10.275819</td>\n",
       "    </tr>\n",
       "    <tr>\n",
       "      <th>min</th>\n",
       "      <td>1987.000000</td>\n",
       "      <td>1.000000</td>\n",
       "      <td>1.000000</td>\n",
       "      <td>0.000000</td>\n",
       "      <td>0.000000</td>\n",
       "      <td>0.100000</td>\n",
       "      <td>0.060000</td>\n",
       "      <td>1000.0</td>\n",
       "      <td>-11.900000</td>\n",
       "    </tr>\n",
       "    <tr>\n",
       "      <th>25%</th>\n",
       "      <td>1988.000000</td>\n",
       "      <td>4.000000</td>\n",
       "      <td>8.000000</td>\n",
       "      <td>0.000000</td>\n",
       "      <td>0.000000</td>\n",
       "      <td>1.500000</td>\n",
       "      <td>0.212000</td>\n",
       "      <td>1000.0</td>\n",
       "      <td>25.400000</td>\n",
       "    </tr>\n",
       "    <tr>\n",
       "      <th>50%</th>\n",
       "      <td>1989.000000</td>\n",
       "      <td>7.000000</td>\n",
       "      <td>16.000000</td>\n",
       "      <td>0.000000</td>\n",
       "      <td>0.000000</td>\n",
       "      <td>6.700000</td>\n",
       "      <td>1.340000</td>\n",
       "      <td>1000.0</td>\n",
       "      <td>31.600000</td>\n",
       "    </tr>\n",
       "    <tr>\n",
       "      <th>75%</th>\n",
       "      <td>1990.000000</td>\n",
       "      <td>10.000000</td>\n",
       "      <td>23.000000</td>\n",
       "      <td>0.000000</td>\n",
       "      <td>0.000000</td>\n",
       "      <td>20.200000</td>\n",
       "      <td>5.660000</td>\n",
       "      <td>1000.0</td>\n",
       "      <td>37.300000</td>\n",
       "    </tr>\n",
       "    <tr>\n",
       "      <th>max</th>\n",
       "      <td>1991.000000</td>\n",
       "      <td>12.000000</td>\n",
       "      <td>31.000000</td>\n",
       "      <td>58.000000</td>\n",
       "      <td>110.000000</td>\n",
       "      <td>151.100000</td>\n",
       "      <td>670.000000</td>\n",
       "      <td>1000.0</td>\n",
       "      <td>48.500000</td>\n",
       "    </tr>\n",
       "  </tbody>\n",
       "</table>\n",
       "</div>"
      ],
      "text/plain": [
       "              Year        Month          Day  Rainfall_St1  Rainfall_St2  \\\n",
       "count  1461.000000  1461.000000  1461.000000    962.000000   1399.000000   \n",
       "mean   1989.164956     6.522930    15.729637      2.446985      2.681201   \n",
       "std       1.213860     3.449884     8.803105      6.640759      9.295415   \n",
       "min    1987.000000     1.000000     1.000000      0.000000      0.000000   \n",
       "25%    1988.000000     4.000000     8.000000      0.000000      0.000000   \n",
       "50%    1989.000000     7.000000    16.000000      0.000000      0.000000   \n",
       "75%    1990.000000    10.000000    23.000000      0.000000      0.000000   \n",
       "max    1991.000000    12.000000    31.000000     58.000000    110.000000   \n",
       "\n",
       "       Rainfall_St3    Discharge  surface_area_St1         Temp  \n",
       "count    337.000000  1461.000000               1.0  1459.000000  \n",
       "mean      16.442433    10.281414            1000.0    30.286977  \n",
       "std       22.800884    37.679309               NaN    10.275819  \n",
       "min        0.100000     0.060000            1000.0   -11.900000  \n",
       "25%        1.500000     0.212000            1000.0    25.400000  \n",
       "50%        6.700000     1.340000            1000.0    31.600000  \n",
       "75%       20.200000     5.660000            1000.0    37.300000  \n",
       "max      151.100000   670.000000            1000.0    48.500000  "
      ]
     },
     "execution_count": 4,
     "metadata": {},
     "output_type": "execute_result"
    }
   ],
   "source": [
    "data.describe()"
   ]
  },
  {
   "cell_type": "code",
   "execution_count": 5,
   "id": "1b48e88e",
   "metadata": {},
   "outputs": [
    {
     "data": {
      "text/plain": [
       "Year                  int64\n",
       "Month                 int64\n",
       "Day                   int64\n",
       "season               object\n",
       "Rainfall_St1        float64\n",
       "Rainfall_St2        float64\n",
       "Rainfall_St3        float64\n",
       "Discharge           float64\n",
       "surface_area_St1    float64\n",
       "Temp                float64\n",
       "dtype: object"
      ]
     },
     "execution_count": 5,
     "metadata": {},
     "output_type": "execute_result"
    }
   ],
   "source": [
    "data.dtypes"
   ]
  },
  {
   "cell_type": "markdown",
   "id": "cd17f666",
   "metadata": {},
   "source": [
    "# EDA - Plot time series"
   ]
  },
  {
   "cell_type": "code",
   "execution_count": 6,
   "id": "8373c617",
   "metadata": {
    "scrolled": true
   },
   "outputs": [
    {
     "data": {
      "image/png": "[encoded data removed]",
      "text/plain": [
       "<Figure size 432x288 with 1 Axes>"
      ]
     },
     "metadata": {
      "needs_background": "light"
     },
     "output_type": "display_data"
    }
   ],
   "source": [
    "#pandas build in\n",
    "data.Rainfall_St1.plot();"
   ]
  },
  {
   "cell_type": "markdown",
   "id": "3288b555",
   "metadata": {},
   "source": [
    "Pattern can be observed - have a closer look:"
   ]
  },
  {
   "cell_type": "code",
   "execution_count": 7,
   "id": "f690fe8b",
   "metadata": {
    "scrolled": true
   },
   "outputs": [
    {
     "data": {
      "image/png": "[encoded data removed]",
      "text/plain": [
       "<Figure size 1440x360 with 1 Axes>"
      ]
     },
     "metadata": {
      "needs_background": "light"
     },
     "output_type": "display_data"
    }
   ],
   "source": [
    "#matplotlib for time-axis\n",
    "fig, ax = plt.subplots(figsize=(20,5))\n",
    "ax.plot(data.Rainfall_St1);"
   ]
  },
  {
   "cell_type": "markdown",
   "id": "d27b6b1c",
   "metadata": {},
   "source": [
    "Rainy season around january, dry season from July-Sept"
   ]
  },
  {
   "cell_type": "code",
   "execution_count": 8,
   "id": "0fdaf472",
   "metadata": {},
   "outputs": [
    {
     "data": {
      "image/png": "[encoded data removed]",
      "text/plain": [
       "<Figure size 1440x360 with 1 Axes>"
      ]
     },
     "metadata": {
      "needs_background": "light"
     },
     "output_type": "display_data"
    }
   ],
   "source": [
    "#target\n",
    "fig, ax = plt.subplots(figsize=(20,5))\n",
    "ax.plot(data.Discharge);"
   ]
  },
  {
   "cell_type": "markdown",
   "id": "c56f5018",
   "metadata": {},
   "source": [
    "we already can see a strong correalation"
   ]
  },
  {
   "cell_type": "code",
   "execution_count": 9,
   "id": "9a0901fa",
   "metadata": {},
   "outputs": [],
   "source": [
    "temp = data[data.Year.isin([1988,1989,1990])]"
   ]
  },
  {
   "cell_type": "code",
   "execution_count": 10,
   "id": "4f8043a7",
   "metadata": {},
   "outputs": [
    {
     "data": {
      "image/png": "[encoded data removed]",
      "text/plain": [
       "<Figure size 1440x576 with 3 Axes>"
      ]
     },
     "metadata": {
      "needs_background": "light"
     },
     "output_type": "display_data"
    }
   ],
   "source": [
    "fig, axs = plt.subplots(3, figsize=(20,8))\n",
    "for i, group in enumerate(temp.groupby('Year')):\n",
    "    axs[i].plot(group[1].Discharge)"
   ]
  },
  {
   "cell_type": "code",
   "execution_count": 11,
   "id": "5575bcb2",
   "metadata": {},
   "outputs": [
    {
     "data": {
      "image/png": "[encoded data removed]",
      "text/plain": [
       "<Figure size 1440x576 with 1 Axes>"
      ]
     },
     "metadata": {
      "needs_background": "light"
     },
     "output_type": "display_data"
    }
   ],
   "source": [
    "fig, ax = plt.subplots(figsize=(20,8))\n",
    "for i, group in enumerate(temp.groupby('Year')):\n",
    "    ax.plot(group[1].Discharge.values)\n",
    "    plt.xticks(list(range(15,len(group[1]), 30)),group[1].Month.unique(), size='small')\n",
    "ax.legend(data.Year.unique());"
   ]
  },
  {
   "cell_type": "markdown",
   "id": "398938f4",
   "metadata": {},
   "source": [
    "##### Extract seasonal pattern"
   ]
  },
  {
   "cell_type": "code",
   "execution_count": 12,
   "id": "d8adba4e",
   "metadata": {
    "scrolled": true
   },
   "outputs": [],
   "source": [
    "from statsmodels.tsa.seasonal import seasonal_decompose\n",
    "decomposition = seasonal_decompose(data.Discharge, period=366)\n",
    "trend    = decomposition.trend\n",
    "seasonal = decomposition.seasonal\n",
    "residual = decomposition.resid"
   ]
  },
  {
   "cell_type": "code",
   "execution_count": 13,
   "id": "59535a75",
   "metadata": {},
   "outputs": [
    {
     "data": {
      "image/png": "[encoded data removed]",
      "text/plain": [
       "<Figure size 1440x360 with 1 Axes>"
      ]
     },
     "metadata": {
      "needs_background": "light"
     },
     "output_type": "display_data"
    }
   ],
   "source": [
    "fig, ax = plt.subplots(figsize=(20,5))\n",
    "ax.plot(seasonal);"
   ]
  },
  {
   "cell_type": "code",
   "execution_count": 14,
   "id": "c139c076",
   "metadata": {},
   "outputs": [
    {
     "data": {
      "image/png": "[encoded data removed]",
      "text/plain": [
       "<Figure size 1440x360 with 1 Axes>"
      ]
     },
     "metadata": {
      "needs_background": "light"
     },
     "output_type": "display_data"
    }
   ],
   "source": [
    "#zoom into 1 year\n",
    "fig, ax = plt.subplots(figsize=(20,5))\n",
    "ax.plot(seasonal[data[data.Year==1990].index]);"
   ]
  },
  {
   "cell_type": "markdown",
   "id": "12b5d2d0",
   "metadata": {},
   "source": [
    "# Replace missings"
   ]
  },
  {
   "cell_type": "code",
   "execution_count": 15,
   "id": "4f0400c6",
   "metadata": {
    "scrolled": true
   },
   "outputs": [
    {
     "data": {
      "text/plain": [
       "Year                   0\n",
       "Month                  0\n",
       "Day                    0\n",
       "season                 0\n",
       "Rainfall_St1         499\n",
       "Rainfall_St2          62\n",
       "Rainfall_St3        1124\n",
       "Discharge              0\n",
       "surface_area_St1    1460\n",
       "Temp                   2\n",
       "dtype: int64"
      ]
     },
     "execution_count": 15,
     "metadata": {},
     "output_type": "execute_result"
    }
   ],
   "source": [
    "data.isna().sum()"
   ]
  },
  {
   "cell_type": "markdown",
   "id": "e31df12e",
   "metadata": {},
   "source": [
    "surface_area is an information of volume of the basin, it remains same for all entries, so we will do a forward fill to keep the informamtion for transformations"
   ]
  },
  {
   "cell_type": "code",
   "execution_count": 16,
   "id": "e9567e78",
   "metadata": {},
   "outputs": [],
   "source": [
    "data.surface_area_St1.ffill(inplace = True)"
   ]
  },
  {
   "cell_type": "code",
   "execution_count": 17,
   "id": "eb8ae02f",
   "metadata": {},
   "outputs": [
    {
     "data": {
      "text/plain": [
       "Year                   0\n",
       "Month                  0\n",
       "Day                    0\n",
       "season                 0\n",
       "Rainfall_St1         499\n",
       "Rainfall_St2          62\n",
       "Rainfall_St3        1124\n",
       "Discharge              0\n",
       "surface_area_St1       0\n",
       "Temp                   2\n",
       "dtype: int64"
      ]
     },
     "execution_count": 17,
     "metadata": {},
     "output_type": "execute_result"
    }
   ],
   "source": [
    "data.isna().sum()"
   ]
  },
  {
   "cell_type": "code",
   "execution_count": 18,
   "id": "75f887bb",
   "metadata": {
    "scrolled": true
   },
   "outputs": [
    {
     "data": {
      "text/html": [
       "<div>\n",
       "<style scoped>\n",
       "    .dataframe tbody tr th:only-of-type {\n",
       "        vertical-align: middle;\n",
       "    }\n",
       "\n",
       "    .dataframe tbody tr th {\n",
       "        vertical-align: top;\n",
       "    }\n",
       "\n",
       "    .dataframe thead th {\n",
       "        text-align: right;\n",
       "    }\n",
       "</style>\n",
       "<table border=\"1\" class=\"dataframe\">\n",
       "  <thead>\n",
       "    <tr style=\"text-align: right;\">\n",
       "      <th></th>\n",
       "      <th>Year</th>\n",
       "      <th>Month</th>\n",
       "      <th>Day</th>\n",
       "      <th>season</th>\n",
       "      <th>Rainfall_St1</th>\n",
       "      <th>Rainfall_St2</th>\n",
       "      <th>Rainfall_St3</th>\n",
       "      <th>Discharge</th>\n",
       "      <th>surface_area_St1</th>\n",
       "      <th>Temp</th>\n",
       "    </tr>\n",
       "    <tr>\n",
       "      <th>Timestamp</th>\n",
       "      <th></th>\n",
       "      <th></th>\n",
       "      <th></th>\n",
       "      <th></th>\n",
       "      <th></th>\n",
       "      <th></th>\n",
       "      <th></th>\n",
       "      <th></th>\n",
       "      <th></th>\n",
       "      <th></th>\n",
       "    </tr>\n",
       "  </thead>\n",
       "  <tbody>\n",
       "    <tr>\n",
       "      <th>1990-05-05</th>\n",
       "      <td>1990</td>\n",
       "      <td>5</td>\n",
       "      <td>5</td>\n",
       "      <td>Spring</td>\n",
       "      <td>0.0</td>\n",
       "      <td>0.0</td>\n",
       "      <td>NaN</td>\n",
       "      <td>4.860</td>\n",
       "      <td>1000.0</td>\n",
       "      <td>NaN</td>\n",
       "    </tr>\n",
       "    <tr>\n",
       "      <th>1990-10-12</th>\n",
       "      <td>1990</td>\n",
       "      <td>10</td>\n",
       "      <td>12</td>\n",
       "      <td>Autumn</td>\n",
       "      <td>0.0</td>\n",
       "      <td>0.0</td>\n",
       "      <td>NaN</td>\n",
       "      <td>0.212</td>\n",
       "      <td>1000.0</td>\n",
       "      <td>NaN</td>\n",
       "    </tr>\n",
       "  </tbody>\n",
       "</table>\n",
       "</div>"
      ],
      "text/plain": [
       "            Year  Month  Day  season  Rainfall_St1  Rainfall_St2  \\\n",
       "Timestamp                                                          \n",
       "1990-05-05  1990      5    5  Spring           0.0           0.0   \n",
       "1990-10-12  1990     10   12  Autumn           0.0           0.0   \n",
       "\n",
       "            Rainfall_St3  Discharge  surface_area_St1  Temp  \n",
       "Timestamp                                                    \n",
       "1990-05-05           NaN      4.860            1000.0   NaN  \n",
       "1990-10-12           NaN      0.212            1000.0   NaN  "
      ]
     },
     "execution_count": 18,
     "metadata": {},
     "output_type": "execute_result"
    }
   ],
   "source": [
    "#only two, not much of an influence, best guess ffill or bfill or even better: \n",
    "#interpolation between yesterdays and tommorows temp\n",
    "data[data.Temp.isna()]"
   ]
  },
  {
   "cell_type": "markdown",
   "id": "31617d9e",
   "metadata": {},
   "source": [
    "What does interpolation mean:"
   ]
  },
  {
   "cell_type": "code",
   "execution_count": 19,
   "id": "34850472",
   "metadata": {},
   "outputs": [
    {
     "data": {
      "text/html": [
       "<div>\n",
       "<style scoped>\n",
       "    .dataframe tbody tr th:only-of-type {\n",
       "        vertical-align: middle;\n",
       "    }\n",
       "\n",
       "    .dataframe tbody tr th {\n",
       "        vertical-align: top;\n",
       "    }\n",
       "\n",
       "    .dataframe thead th {\n",
       "        text-align: right;\n",
       "    }\n",
       "</style>\n",
       "<table border=\"1\" class=\"dataframe\">\n",
       "  <thead>\n",
       "    <tr style=\"text-align: right;\">\n",
       "      <th></th>\n",
       "      <th>Year</th>\n",
       "      <th>Month</th>\n",
       "      <th>Day</th>\n",
       "      <th>season</th>\n",
       "      <th>Rainfall_St1</th>\n",
       "      <th>Rainfall_St2</th>\n",
       "      <th>Rainfall_St3</th>\n",
       "      <th>Discharge</th>\n",
       "      <th>surface_area_St1</th>\n",
       "      <th>Temp</th>\n",
       "    </tr>\n",
       "    <tr>\n",
       "      <th>Timestamp</th>\n",
       "      <th></th>\n",
       "      <th></th>\n",
       "      <th></th>\n",
       "      <th></th>\n",
       "      <th></th>\n",
       "      <th></th>\n",
       "      <th></th>\n",
       "      <th></th>\n",
       "      <th></th>\n",
       "      <th></th>\n",
       "    </tr>\n",
       "  </thead>\n",
       "  <tbody>\n",
       "    <tr>\n",
       "      <th>1990-05-03</th>\n",
       "      <td>1990</td>\n",
       "      <td>5</td>\n",
       "      <td>3</td>\n",
       "      <td>Spring</td>\n",
       "      <td>0.0</td>\n",
       "      <td>0.0</td>\n",
       "      <td>NaN</td>\n",
       "      <td>5.71</td>\n",
       "      <td>1000.0</td>\n",
       "      <td>33.1</td>\n",
       "    </tr>\n",
       "    <tr>\n",
       "      <th>1990-05-04</th>\n",
       "      <td>1990</td>\n",
       "      <td>5</td>\n",
       "      <td>4</td>\n",
       "      <td>Spring</td>\n",
       "      <td>0.0</td>\n",
       "      <td>0.0</td>\n",
       "      <td>NaN</td>\n",
       "      <td>5.32</td>\n",
       "      <td>1000.0</td>\n",
       "      <td>35.0</td>\n",
       "    </tr>\n",
       "    <tr>\n",
       "      <th>1990-05-05</th>\n",
       "      <td>1990</td>\n",
       "      <td>5</td>\n",
       "      <td>5</td>\n",
       "      <td>Spring</td>\n",
       "      <td>0.0</td>\n",
       "      <td>0.0</td>\n",
       "      <td>NaN</td>\n",
       "      <td>4.86</td>\n",
       "      <td>1000.0</td>\n",
       "      <td>NaN</td>\n",
       "    </tr>\n",
       "    <tr>\n",
       "      <th>1990-05-06</th>\n",
       "      <td>1990</td>\n",
       "      <td>5</td>\n",
       "      <td>6</td>\n",
       "      <td>Spring</td>\n",
       "      <td>0.0</td>\n",
       "      <td>0.0</td>\n",
       "      <td>NaN</td>\n",
       "      <td>4.51</td>\n",
       "      <td>1000.0</td>\n",
       "      <td>29.5</td>\n",
       "    </tr>\n",
       "    <tr>\n",
       "      <th>1990-05-07</th>\n",
       "      <td>1990</td>\n",
       "      <td>5</td>\n",
       "      <td>7</td>\n",
       "      <td>Spring</td>\n",
       "      <td>0.0</td>\n",
       "      <td>0.0</td>\n",
       "      <td>NaN</td>\n",
       "      <td>4.14</td>\n",
       "      <td>1000.0</td>\n",
       "      <td>30.3</td>\n",
       "    </tr>\n",
       "  </tbody>\n",
       "</table>\n",
       "</div>"
      ],
      "text/plain": [
       "            Year  Month  Day  season  Rainfall_St1  Rainfall_St2  \\\n",
       "Timestamp                                                          \n",
       "1990-05-03  1990      5    3  Spring           0.0           0.0   \n",
       "1990-05-04  1990      5    4  Spring           0.0           0.0   \n",
       "1990-05-05  1990      5    5  Spring           0.0           0.0   \n",
       "1990-05-06  1990      5    6  Spring           0.0           0.0   \n",
       "1990-05-07  1990      5    7  Spring           0.0           0.0   \n",
       "\n",
       "            Rainfall_St3  Discharge  surface_area_St1  Temp  \n",
       "Timestamp                                                    \n",
       "1990-05-03           NaN       5.71            1000.0  33.1  \n",
       "1990-05-04           NaN       5.32            1000.0  35.0  \n",
       "1990-05-05           NaN       4.86            1000.0   NaN  \n",
       "1990-05-06           NaN       4.51            1000.0  29.5  \n",
       "1990-05-07           NaN       4.14            1000.0  30.3  "
      ]
     },
     "execution_count": 19,
     "metadata": {},
     "output_type": "execute_result"
    }
   ],
   "source": [
    "data.iloc[975:980]"
   ]
  },
  {
   "cell_type": "code",
   "execution_count": 20,
   "id": "d9064cb7",
   "metadata": {},
   "outputs": [
    {
     "data": {
      "text/plain": [
       "32.25"
      ]
     },
     "execution_count": 20,
     "metadata": {},
     "output_type": "execute_result"
    }
   ],
   "source": [
    "data.Temp.interpolate()[977]"
   ]
  },
  {
   "cell_type": "code",
   "execution_count": 21,
   "id": "a7f2aae7",
   "metadata": {},
   "outputs": [],
   "source": [
    "#do for all vlaues in data set\n",
    "data.Temp = data.Temp.interpolate()"
   ]
  },
  {
   "cell_type": "code",
   "execution_count": 22,
   "id": "42157f54",
   "metadata": {},
   "outputs": [
    {
     "data": {
      "text/plain": [
       "Year                   0\n",
       "Month                  0\n",
       "Day                    0\n",
       "season                 0\n",
       "Rainfall_St1         499\n",
       "Rainfall_St2          62\n",
       "Rainfall_St3        1124\n",
       "Discharge              0\n",
       "surface_area_St1       0\n",
       "Temp                   0\n",
       "dtype: int64"
      ]
     },
     "execution_count": 22,
     "metadata": {},
     "output_type": "execute_result"
    }
   ],
   "source": [
    "data.isna().sum()"
   ]
  },
  {
   "cell_type": "markdown",
   "id": "76e0adc3",
   "metadata": {},
   "source": [
    "Replacing Rainfall data - that is very sensitive, because these are our actual values, we should be very careful, how we replace those, as we do not want to add non-real patterns into the data. I would definitely ask back to the experts, what most probably is the reason for missing data. As we cannot now, I have a look onto the visualisations above (see how helpful EDA can be!) and assume that the experts say, sometimes if there was no rain, it was forgotten to enter a zero. Therefore, we will replace missing value with zeros."
   ]
  },
  {
   "cell_type": "code",
   "execution_count": 23,
   "id": "3e3e0043",
   "metadata": {},
   "outputs": [],
   "source": [
    "data.fillna(value=0, inplace = True)"
   ]
  },
  {
   "cell_type": "code",
   "execution_count": 24,
   "id": "384258b0",
   "metadata": {},
   "outputs": [
    {
     "data": {
      "text/plain": [
       "Year                0\n",
       "Month               0\n",
       "Day                 0\n",
       "season              0\n",
       "Rainfall_St1        0\n",
       "Rainfall_St2        0\n",
       "Rainfall_St3        0\n",
       "Discharge           0\n",
       "surface_area_St1    0\n",
       "Temp                0\n",
       "dtype: int64"
      ]
     },
     "execution_count": 24,
     "metadata": {},
     "output_type": "execute_result"
    }
   ],
   "source": [
    "data.isna().sum()"
   ]
  },
  {
   "cell_type": "markdown",
   "id": "9dc0b42f",
   "metadata": {},
   "source": [
    "##### Looks good now!"
   ]
  },
  {
   "cell_type": "code",
   "execution_count": 25,
   "id": "da5148aa",
   "metadata": {},
   "outputs": [
    {
     "data": {
      "image/png": "[encoded data removed]",
      "text/plain": [
       "<Figure size 1440x360 with 1 Axes>"
      ]
     },
     "metadata": {
      "needs_background": "light"
     },
     "output_type": "display_data"
    }
   ],
   "source": [
    "fig, ax = plt.subplots(figsize=(20,5))\n",
    "ax.plot(data.Rainfall_St1);"
   ]
  },
  {
   "cell_type": "markdown",
   "id": "8de4d36a",
   "metadata": {},
   "source": [
    "# Feature Transformation"
   ]
  },
  {
   "cell_type": "code",
   "execution_count": 26,
   "id": "43c9be06",
   "metadata": {},
   "outputs": [
    {
     "data": {
      "text/html": [
       "<div>\n",
       "<style scoped>\n",
       "    .dataframe tbody tr th:only-of-type {\n",
       "        vertical-align: middle;\n",
       "    }\n",
       "\n",
       "    .dataframe tbody tr th {\n",
       "        vertical-align: top;\n",
       "    }\n",
       "\n",
       "    .dataframe thead th {\n",
       "        text-align: right;\n",
       "    }\n",
       "</style>\n",
       "<table border=\"1\" class=\"dataframe\">\n",
       "  <thead>\n",
       "    <tr style=\"text-align: right;\">\n",
       "      <th></th>\n",
       "      <th>Year</th>\n",
       "      <th>Month</th>\n",
       "      <th>Day</th>\n",
       "      <th>season</th>\n",
       "      <th>Rainfall_St1</th>\n",
       "      <th>Rainfall_St2</th>\n",
       "      <th>Rainfall_St3</th>\n",
       "      <th>Discharge</th>\n",
       "      <th>surface_area_St1</th>\n",
       "      <th>Temp</th>\n",
       "    </tr>\n",
       "    <tr>\n",
       "      <th>Timestamp</th>\n",
       "      <th></th>\n",
       "      <th></th>\n",
       "      <th></th>\n",
       "      <th></th>\n",
       "      <th></th>\n",
       "      <th></th>\n",
       "      <th></th>\n",
       "      <th></th>\n",
       "      <th></th>\n",
       "      <th></th>\n",
       "    </tr>\n",
       "  </thead>\n",
       "  <tbody>\n",
       "    <tr>\n",
       "      <th>1987-09-01</th>\n",
       "      <td>1987</td>\n",
       "      <td>9</td>\n",
       "      <td>1</td>\n",
       "      <td>Autumn</td>\n",
       "      <td>0.0</td>\n",
       "      <td>0.0</td>\n",
       "      <td>0.0</td>\n",
       "      <td>0.128</td>\n",
       "      <td>1000.0</td>\n",
       "      <td>41.5</td>\n",
       "    </tr>\n",
       "    <tr>\n",
       "      <th>1987-09-02</th>\n",
       "      <td>1987</td>\n",
       "      <td>9</td>\n",
       "      <td>2</td>\n",
       "      <td>Autumn</td>\n",
       "      <td>0.0</td>\n",
       "      <td>0.0</td>\n",
       "      <td>0.0</td>\n",
       "      <td>0.128</td>\n",
       "      <td>1000.0</td>\n",
       "      <td>44.5</td>\n",
       "    </tr>\n",
       "    <tr>\n",
       "      <th>1987-09-03</th>\n",
       "      <td>1987</td>\n",
       "      <td>9</td>\n",
       "      <td>3</td>\n",
       "      <td>Autumn</td>\n",
       "      <td>0.0</td>\n",
       "      <td>0.0</td>\n",
       "      <td>0.0</td>\n",
       "      <td>0.128</td>\n",
       "      <td>1000.0</td>\n",
       "      <td>43.6</td>\n",
       "    </tr>\n",
       "    <tr>\n",
       "      <th>1987-09-04</th>\n",
       "      <td>1987</td>\n",
       "      <td>9</td>\n",
       "      <td>4</td>\n",
       "      <td>Autumn</td>\n",
       "      <td>0.0</td>\n",
       "      <td>0.0</td>\n",
       "      <td>0.0</td>\n",
       "      <td>0.128</td>\n",
       "      <td>1000.0</td>\n",
       "      <td>42.8</td>\n",
       "    </tr>\n",
       "    <tr>\n",
       "      <th>1987-09-05</th>\n",
       "      <td>1987</td>\n",
       "      <td>9</td>\n",
       "      <td>5</td>\n",
       "      <td>Autumn</td>\n",
       "      <td>0.0</td>\n",
       "      <td>0.0</td>\n",
       "      <td>0.0</td>\n",
       "      <td>0.128</td>\n",
       "      <td>1000.0</td>\n",
       "      <td>44.7</td>\n",
       "    </tr>\n",
       "  </tbody>\n",
       "</table>\n",
       "</div>"
      ],
      "text/plain": [
       "            Year  Month  Day  season  Rainfall_St1  Rainfall_St2  \\\n",
       "Timestamp                                                          \n",
       "1987-09-01  1987      9    1  Autumn           0.0           0.0   \n",
       "1987-09-02  1987      9    2  Autumn           0.0           0.0   \n",
       "1987-09-03  1987      9    3  Autumn           0.0           0.0   \n",
       "1987-09-04  1987      9    4  Autumn           0.0           0.0   \n",
       "1987-09-05  1987      9    5  Autumn           0.0           0.0   \n",
       "\n",
       "            Rainfall_St3  Discharge  surface_area_St1  Temp  \n",
       "Timestamp                                                    \n",
       "1987-09-01           0.0      0.128            1000.0  41.5  \n",
       "1987-09-02           0.0      0.128            1000.0  44.5  \n",
       "1987-09-03           0.0      0.128            1000.0  43.6  \n",
       "1987-09-04           0.0      0.128            1000.0  42.8  \n",
       "1987-09-05           0.0      0.128            1000.0  44.7  "
      ]
     },
     "execution_count": 26,
     "metadata": {},
     "output_type": "execute_result"
    }
   ],
   "source": [
    "data.head()"
   ]
  },
  {
   "cell_type": "code",
   "execution_count": 27,
   "id": "372bb1b8",
   "metadata": {},
   "outputs": [
    {
     "data": {
      "text/plain": [
       "Year                  int64\n",
       "Month                 int64\n",
       "Day                   int64\n",
       "season               object\n",
       "Rainfall_St1        float64\n",
       "Rainfall_St2        float64\n",
       "Rainfall_St3        float64\n",
       "Discharge           float64\n",
       "surface_area_St1    float64\n",
       "Temp                float64\n",
       "dtype: object"
      ]
     },
     "execution_count": 27,
     "metadata": {},
     "output_type": "execute_result"
    }
   ],
   "source": [
    "data.dtypes"
   ]
  },
  {
   "cell_type": "markdown",
   "id": "f6104ced",
   "metadata": {},
   "source": [
    "### Encoding"
   ]
  },
  {
   "cell_type": "code",
   "execution_count": 28,
   "id": "9993262a",
   "metadata": {
    "scrolled": true
   },
   "outputs": [
    {
     "data": {
      "image/png": "[encoded data removed]",
      "text/plain": [
       "<Figure size 432x288 with 1 Axes>"
      ]
     },
     "metadata": {
      "needs_background": "light"
     },
     "output_type": "display_data"
    }
   ],
   "source": [
    "sns.countplot(data=data, x= 'season');"
   ]
  },
  {
   "cell_type": "code",
   "execution_count": 29,
   "id": "b3bbccd4",
   "metadata": {},
   "outputs": [],
   "source": [
    "dict_seasons = {'Winter': 1, 'Spring': 2, 'Summer': 3, 'Autumn': 4}"
   ]
  },
  {
   "cell_type": "code",
   "execution_count": 30,
   "id": "282fd856",
   "metadata": {},
   "outputs": [
    {
     "data": {
      "text/plain": [
       "Timestamp\n",
       "1987-09-01    4\n",
       "1987-09-02    4\n",
       "1987-09-03    4\n",
       "1987-09-04    4\n",
       "1987-09-05    4\n",
       "             ..\n",
       "1991-08-27    3\n",
       "1991-08-28    3\n",
       "1991-08-29    3\n",
       "1991-08-30    3\n",
       "1991-08-31    3\n",
       "Name: season, Length: 1461, dtype: int64"
      ]
     },
     "execution_count": 30,
     "metadata": {},
     "output_type": "execute_result"
    }
   ],
   "source": [
    "data.season.map(dict_seasons)"
   ]
  },
  {
   "cell_type": "code",
   "execution_count": 31,
   "id": "5d6b277a",
   "metadata": {},
   "outputs": [],
   "source": [
    "data.season = data.season.map(dict_seasons)"
   ]
  },
  {
   "cell_type": "code",
   "execution_count": 32,
   "id": "862d9d38",
   "metadata": {},
   "outputs": [
    {
     "data": {
      "text/plain": [
       "Year                  int64\n",
       "Month                 int64\n",
       "Day                   int64\n",
       "season                int64\n",
       "Rainfall_St1        float64\n",
       "Rainfall_St2        float64\n",
       "Rainfall_St3        float64\n",
       "Discharge           float64\n",
       "surface_area_St1    float64\n",
       "Temp                float64\n",
       "dtype: object"
      ]
     },
     "execution_count": 32,
     "metadata": {},
     "output_type": "execute_result"
    }
   ],
   "source": [
    "data.dtypes"
   ]
  },
  {
   "cell_type": "markdown",
   "id": "724bcbad",
   "metadata": {},
   "source": [
    "# Create new features"
   ]
  },
  {
   "cell_type": "markdown",
   "id": "8daa45a2",
   "metadata": {},
   "source": [
    "##### transform mathematical: log, lag..."
   ]
  },
  {
   "cell_type": "code",
   "execution_count": 33,
   "id": "d5ff63a9",
   "metadata": {},
   "outputs": [
    {
     "data": {
      "text/plain": [
       "Timestamp\n",
       "1987-09-01    0.0\n",
       "1987-09-02    0.0\n",
       "1987-09-03    0.0\n",
       "1987-09-04    0.0\n",
       "1987-09-05    0.0\n",
       "             ... \n",
       "1991-08-27    0.0\n",
       "1991-08-28    0.5\n",
       "1991-08-29    0.0\n",
       "1991-08-30    0.0\n",
       "1991-08-31    0.0\n",
       "Name: Rainfall_St3, Length: 1461, dtype: float64"
      ]
     },
     "execution_count": 33,
     "metadata": {},
     "output_type": "execute_result"
    }
   ],
   "source": [
    "data.Rainfall_St3"
   ]
  },
  {
   "cell_type": "code",
   "execution_count": 34,
   "id": "4bfcb449",
   "metadata": {
    "scrolled": true
   },
   "outputs": [
    {
     "data": {
      "text/plain": [
       "Timestamp\n",
       "1987-09-01    NaN\n",
       "1987-09-02    0.0\n",
       "1987-09-03    0.0\n",
       "1987-09-04    0.0\n",
       "1987-09-05    0.0\n",
       "             ... \n",
       "1991-08-27    0.0\n",
       "1991-08-28    0.0\n",
       "1991-08-29    0.5\n",
       "1991-08-30    0.0\n",
       "1991-08-31    0.0\n",
       "Name: Rainfall_St3, Length: 1461, dtype: float64"
      ]
     },
     "execution_count": 34,
     "metadata": {},
     "output_type": "execute_result"
    }
   ],
   "source": [
    "data.Rainfall_St3.shift(1)"
   ]
  },
  {
   "cell_type": "code",
   "execution_count": 35,
   "id": "37043faf",
   "metadata": {},
   "outputs": [],
   "source": [
    "data['Rainfall_St1_lag1'] = data.Rainfall_St1.shift(1)"
   ]
  },
  {
   "cell_type": "code",
   "execution_count": 36,
   "id": "de831bc2",
   "metadata": {},
   "outputs": [],
   "source": [
    "data['Rainfall_St2_lag1'] = data.Rainfall_St2.shift(1)\n",
    "data['Rainfall_St3_lag1'] = data.Rainfall_St3.shift(1)"
   ]
  },
  {
   "cell_type": "markdown",
   "id": "549e2dd4",
   "metadata": {},
   "source": [
    "##### transform - create new features, enrich information"
   ]
  },
  {
   "cell_type": "code",
   "execution_count": 37,
   "id": "30222817",
   "metadata": {},
   "outputs": [
    {
     "data": {
      "text/plain": [
       "Timestamp\n",
       "1987-09-01    0.0\n",
       "1987-09-02    0.0\n",
       "1987-09-03    0.0\n",
       "1987-09-04    0.0\n",
       "1987-09-05    0.0\n",
       "             ... \n",
       "1991-08-27    0.0\n",
       "1991-08-28    0.0\n",
       "1991-08-29    0.0\n",
       "1991-08-30    0.0\n",
       "1991-08-31    0.0\n",
       "Length: 1461, dtype: float64"
      ]
     },
     "execution_count": 37,
     "metadata": {},
     "output_type": "execute_result"
    }
   ],
   "source": [
    "data.Rainfall_St1 * data.surface_area_St1"
   ]
  },
  {
   "cell_type": "code",
   "execution_count": 38,
   "id": "ab2ae263",
   "metadata": {},
   "outputs": [],
   "source": [
    "#ask Ayouba, what is the correct combination\n",
    "data['Rainfall_St1_in_m3'] = data.Rainfall_St1 * data.surface_area_St1"
   ]
  },
  {
   "cell_type": "code",
   "execution_count": 39,
   "id": "3f190708",
   "metadata": {},
   "outputs": [
    {
     "data": {
      "text/plain": [
       "Timestamp\n",
       "1987-10-01    0.0\n",
       "1987-10-02    0.0\n",
       "1987-10-03    0.0\n",
       "1987-10-04    1.0\n",
       "1987-10-05    5.0\n",
       "1987-10-06    2.0\n",
       "1987-10-07    0.0\n",
       "1987-10-08    0.0\n",
       "1987-10-09    7.0\n",
       "1987-10-10    1.0\n",
       "Name: Rainfall_St1, dtype: float64"
      ]
     },
     "execution_count": 39,
     "metadata": {},
     "output_type": "execute_result"
    }
   ],
   "source": [
    "data.Rainfall_St1[30:40]"
   ]
  },
  {
   "cell_type": "code",
   "execution_count": 40,
   "id": "0622f535",
   "metadata": {},
   "outputs": [
    {
     "data": {
      "text/plain": [
       "Timestamp\n",
       "1987-10-01       0.0\n",
       "1987-10-02       0.0\n",
       "1987-10-03       0.0\n",
       "1987-10-04    1000.0\n",
       "1987-10-05    5000.0\n",
       "1987-10-06    2000.0\n",
       "1987-10-07       0.0\n",
       "1987-10-08       0.0\n",
       "1987-10-09    7000.0\n",
       "1987-10-10    1000.0\n",
       "Name: Rainfall_St1_in_m3, dtype: float64"
      ]
     },
     "execution_count": 40,
     "metadata": {},
     "output_type": "execute_result"
    }
   ],
   "source": [
    "data.Rainfall_St1_in_m3[30:40]"
   ]
  },
  {
   "cell_type": "code",
   "execution_count": 41,
   "id": "7ac1e6f7",
   "metadata": {},
   "outputs": [
    {
     "data": {
      "text/html": [
       "<div>\n",
       "<style scoped>\n",
       "    .dataframe tbody tr th:only-of-type {\n",
       "        vertical-align: middle;\n",
       "    }\n",
       "\n",
       "    .dataframe tbody tr th {\n",
       "        vertical-align: top;\n",
       "    }\n",
       "\n",
       "    .dataframe thead th {\n",
       "        text-align: right;\n",
       "    }\n",
       "</style>\n",
       "<table border=\"1\" class=\"dataframe\">\n",
       "  <thead>\n",
       "    <tr style=\"text-align: right;\">\n",
       "      <th></th>\n",
       "      <th>Year</th>\n",
       "      <th>Month</th>\n",
       "      <th>Day</th>\n",
       "      <th>season</th>\n",
       "      <th>Rainfall_St1</th>\n",
       "      <th>Rainfall_St2</th>\n",
       "      <th>Rainfall_St3</th>\n",
       "      <th>Discharge</th>\n",
       "      <th>surface_area_St1</th>\n",
       "      <th>Temp</th>\n",
       "      <th>Rainfall_St1_lag1</th>\n",
       "      <th>Rainfall_St2_lag1</th>\n",
       "      <th>Rainfall_St3_lag1</th>\n",
       "      <th>Rainfall_St1_in_m3</th>\n",
       "    </tr>\n",
       "    <tr>\n",
       "      <th>Timestamp</th>\n",
       "      <th></th>\n",
       "      <th></th>\n",
       "      <th></th>\n",
       "      <th></th>\n",
       "      <th></th>\n",
       "      <th></th>\n",
       "      <th></th>\n",
       "      <th></th>\n",
       "      <th></th>\n",
       "      <th></th>\n",
       "      <th></th>\n",
       "      <th></th>\n",
       "      <th></th>\n",
       "      <th></th>\n",
       "    </tr>\n",
       "  </thead>\n",
       "  <tbody>\n",
       "    <tr>\n",
       "      <th>1987-09-01</th>\n",
       "      <td>1987</td>\n",
       "      <td>9</td>\n",
       "      <td>1</td>\n",
       "      <td>4</td>\n",
       "      <td>0.0</td>\n",
       "      <td>0.0</td>\n",
       "      <td>0.0</td>\n",
       "      <td>0.128</td>\n",
       "      <td>1000.0</td>\n",
       "      <td>41.5</td>\n",
       "      <td>NaN</td>\n",
       "      <td>NaN</td>\n",
       "      <td>NaN</td>\n",
       "      <td>0.0</td>\n",
       "    </tr>\n",
       "    <tr>\n",
       "      <th>1987-09-02</th>\n",
       "      <td>1987</td>\n",
       "      <td>9</td>\n",
       "      <td>2</td>\n",
       "      <td>4</td>\n",
       "      <td>0.0</td>\n",
       "      <td>0.0</td>\n",
       "      <td>0.0</td>\n",
       "      <td>0.128</td>\n",
       "      <td>1000.0</td>\n",
       "      <td>44.5</td>\n",
       "      <td>0.0</td>\n",
       "      <td>0.0</td>\n",
       "      <td>0.0</td>\n",
       "      <td>0.0</td>\n",
       "    </tr>\n",
       "    <tr>\n",
       "      <th>1987-09-03</th>\n",
       "      <td>1987</td>\n",
       "      <td>9</td>\n",
       "      <td>3</td>\n",
       "      <td>4</td>\n",
       "      <td>0.0</td>\n",
       "      <td>0.0</td>\n",
       "      <td>0.0</td>\n",
       "      <td>0.128</td>\n",
       "      <td>1000.0</td>\n",
       "      <td>43.6</td>\n",
       "      <td>0.0</td>\n",
       "      <td>0.0</td>\n",
       "      <td>0.0</td>\n",
       "      <td>0.0</td>\n",
       "    </tr>\n",
       "    <tr>\n",
       "      <th>1987-09-04</th>\n",
       "      <td>1987</td>\n",
       "      <td>9</td>\n",
       "      <td>4</td>\n",
       "      <td>4</td>\n",
       "      <td>0.0</td>\n",
       "      <td>0.0</td>\n",
       "      <td>0.0</td>\n",
       "      <td>0.128</td>\n",
       "      <td>1000.0</td>\n",
       "      <td>42.8</td>\n",
       "      <td>0.0</td>\n",
       "      <td>0.0</td>\n",
       "      <td>0.0</td>\n",
       "      <td>0.0</td>\n",
       "    </tr>\n",
       "    <tr>\n",
       "      <th>1987-09-05</th>\n",
       "      <td>1987</td>\n",
       "      <td>9</td>\n",
       "      <td>5</td>\n",
       "      <td>4</td>\n",
       "      <td>0.0</td>\n",
       "      <td>0.0</td>\n",
       "      <td>0.0</td>\n",
       "      <td>0.128</td>\n",
       "      <td>1000.0</td>\n",
       "      <td>44.7</td>\n",
       "      <td>0.0</td>\n",
       "      <td>0.0</td>\n",
       "      <td>0.0</td>\n",
       "      <td>0.0</td>\n",
       "    </tr>\n",
       "  </tbody>\n",
       "</table>\n",
       "</div>"
      ],
      "text/plain": [
       "            Year  Month  Day  season  Rainfall_St1  Rainfall_St2  \\\n",
       "Timestamp                                                          \n",
       "1987-09-01  1987      9    1       4           0.0           0.0   \n",
       "1987-09-02  1987      9    2       4           0.0           0.0   \n",
       "1987-09-03  1987      9    3       4           0.0           0.0   \n",
       "1987-09-04  1987      9    4       4           0.0           0.0   \n",
       "1987-09-05  1987      9    5       4           0.0           0.0   \n",
       "\n",
       "            Rainfall_St3  Discharge  surface_area_St1  Temp  \\\n",
       "Timestamp                                                     \n",
       "1987-09-01           0.0      0.128            1000.0  41.5   \n",
       "1987-09-02           0.0      0.128            1000.0  44.5   \n",
       "1987-09-03           0.0      0.128            1000.0  43.6   \n",
       "1987-09-04           0.0      0.128            1000.0  42.8   \n",
       "1987-09-05           0.0      0.128            1000.0  44.7   \n",
       "\n",
       "            Rainfall_St1_lag1  Rainfall_St2_lag1  Rainfall_St3_lag1  \\\n",
       "Timestamp                                                             \n",
       "1987-09-01                NaN                NaN                NaN   \n",
       "1987-09-02                0.0                0.0                0.0   \n",
       "1987-09-03                0.0                0.0                0.0   \n",
       "1987-09-04                0.0                0.0                0.0   \n",
       "1987-09-05                0.0                0.0                0.0   \n",
       "\n",
       "            Rainfall_St1_in_m3  \n",
       "Timestamp                       \n",
       "1987-09-01                 0.0  \n",
       "1987-09-02                 0.0  \n",
       "1987-09-03                 0.0  \n",
       "1987-09-04                 0.0  \n",
       "1987-09-05                 0.0  "
      ]
     },
     "execution_count": 41,
     "metadata": {},
     "output_type": "execute_result"
    }
   ],
   "source": [
    "data.head()"
   ]
  },
  {
   "cell_type": "code",
   "execution_count": 42,
   "id": "0c201d5b",
   "metadata": {},
   "outputs": [],
   "source": [
    "#because lag of 1 is not available for the very first entry, we need to cut it\n",
    "data  = data.iloc[1:,:]"
   ]
  },
  {
   "cell_type": "markdown",
   "id": "a7735cfc",
   "metadata": {},
   "source": [
    "# Go through the process of Machine Learning"
   ]
  },
  {
   "cell_type": "markdown",
   "id": "1f587ff8",
   "metadata": {},
   "source": [
    "Seperate Input Features and Target variable (remember last session)"
   ]
  },
  {
   "cell_type": "code",
   "execution_count": 43,
   "id": "526ba36f",
   "metadata": {},
   "outputs": [
    {
     "data": {
      "text/plain": [
       "Index(['Year', 'Month', 'Day', 'season', 'Rainfall_St1', 'Rainfall_St2',\n",
       "       'Rainfall_St3', 'Discharge', 'surface_area_St1', 'Temp',\n",
       "       'Rainfall_St1_lag1', 'Rainfall_St2_lag1', 'Rainfall_St3_lag1',\n",
       "       'Rainfall_St1_in_m3'],\n",
       "      dtype='object')"
      ]
     },
     "execution_count": 43,
     "metadata": {},
     "output_type": "execute_result"
    }
   ],
   "source": [
    "data.columns"
   ]
  },
  {
   "cell_type": "code",
   "execution_count": 44,
   "id": "34b4a7a9",
   "metadata": {},
   "outputs": [],
   "source": [
    "X = data[['Month', 'season', 'Rainfall_St1',\n",
    "       'Rainfall_St2', 'Rainfall_St3', 'Temp',\n",
    "       'Rainfall_St1_lag1', 'Rainfall_St2_lag1', 'Rainfall_St3_lag1']]"
   ]
  },
  {
   "cell_type": "code",
   "execution_count": 45,
   "id": "1cef022e",
   "metadata": {},
   "outputs": [],
   "source": [
    "y = data.Discharge"
   ]
  },
  {
   "cell_type": "code",
   "execution_count": 46,
   "id": "3436d645",
   "metadata": {},
   "outputs": [],
   "source": [
    "#Daten aufteilen\n",
    "from sklearn.model_selection import train_test_split, cross_val_score\n",
    "X_train, X_test, y_train, y_test = train_test_split(X, y, random_state=42)"
   ]
  },
  {
   "cell_type": "code",
   "execution_count": 47,
   "id": "7c29f0c7",
   "metadata": {},
   "outputs": [
    {
     "data": {
      "text/plain": [
       "RandomForestRegressor(min_samples_leaf=30, n_estimators=50, random_state=42)"
      ]
     },
     "execution_count": 47,
     "metadata": {},
     "output_type": "execute_result"
    }
   ],
   "source": [
    "from sklearn.ensemble import RandomForestRegressor\n",
    "rf = RandomForestRegressor(n_estimators=50, min_samples_leaf=30, random_state=42)\n",
    "rf.fit(X_train,y_train)"
   ]
  },
  {
   "cell_type": "code",
   "execution_count": 48,
   "id": "1b60df2e",
   "metadata": {},
   "outputs": [
    {
     "data": {
      "text/html": [
       "<div>\n",
       "<style scoped>\n",
       "    .dataframe tbody tr th:only-of-type {\n",
       "        vertical-align: middle;\n",
       "    }\n",
       "\n",
       "    .dataframe tbody tr th {\n",
       "        vertical-align: top;\n",
       "    }\n",
       "\n",
       "    .dataframe thead th {\n",
       "        text-align: right;\n",
       "    }\n",
       "</style>\n",
       "<table border=\"1\" class=\"dataframe\">\n",
       "  <thead>\n",
       "    <tr style=\"text-align: right;\">\n",
       "      <th></th>\n",
       "      <th>Attributname</th>\n",
       "      <th>Importance</th>\n",
       "    </tr>\n",
       "  </thead>\n",
       "  <tbody>\n",
       "    <tr>\n",
       "      <th>8</th>\n",
       "      <td>Rainfall_St3_lag1</td>\n",
       "      <td>0.692330</td>\n",
       "    </tr>\n",
       "    <tr>\n",
       "      <th>6</th>\n",
       "      <td>Rainfall_St1_lag1</td>\n",
       "      <td>0.129737</td>\n",
       "    </tr>\n",
       "    <tr>\n",
       "      <th>7</th>\n",
       "      <td>Rainfall_St2_lag1</td>\n",
       "      <td>0.089515</td>\n",
       "    </tr>\n",
       "    <tr>\n",
       "      <th>1</th>\n",
       "      <td>season</td>\n",
       "      <td>0.056763</td>\n",
       "    </tr>\n",
       "    <tr>\n",
       "      <th>0</th>\n",
       "      <td>Month</td>\n",
       "      <td>0.019841</td>\n",
       "    </tr>\n",
       "    <tr>\n",
       "      <th>5</th>\n",
       "      <td>Temp</td>\n",
       "      <td>0.007025</td>\n",
       "    </tr>\n",
       "    <tr>\n",
       "      <th>4</th>\n",
       "      <td>Rainfall_St3</td>\n",
       "      <td>0.003010</td>\n",
       "    </tr>\n",
       "    <tr>\n",
       "      <th>3</th>\n",
       "      <td>Rainfall_St2</td>\n",
       "      <td>0.001673</td>\n",
       "    </tr>\n",
       "    <tr>\n",
       "      <th>2</th>\n",
       "      <td>Rainfall_St1</td>\n",
       "      <td>0.000106</td>\n",
       "    </tr>\n",
       "  </tbody>\n",
       "</table>\n",
       "</div>"
      ],
      "text/plain": [
       "        Attributname  Importance\n",
       "8  Rainfall_St3_lag1    0.692330\n",
       "6  Rainfall_St1_lag1    0.129737\n",
       "7  Rainfall_St2_lag1    0.089515\n",
       "1             season    0.056763\n",
       "0              Month    0.019841\n",
       "5               Temp    0.007025\n",
       "4       Rainfall_St3    0.003010\n",
       "3       Rainfall_St2    0.001673\n",
       "2       Rainfall_St1    0.000106"
      ]
     },
     "execution_count": 48,
     "metadata": {},
     "output_type": "execute_result"
    }
   ],
   "source": [
    "def display_feat_importance(rf):\n",
    "    df = pd.concat([pd.Series(X_train.columns), pd.Series(rf.feature_importances_)], axis = 1)\n",
    "    df.columns = ['Attributname', 'Importance']\n",
    "    return df.sort_values('Importance', ascending = False)\n",
    "\n",
    "rf_featimp =  display_feat_importance(rf)\n",
    "rf_featimp"
   ]
  },
  {
   "cell_type": "markdown",
   "id": "533c8f46",
   "metadata": {},
   "source": [
    "Last days rain seems to be very important, we can test mor lags"
   ]
  },
  {
   "cell_type": "code",
   "execution_count": 49,
   "id": "c11209fd",
   "metadata": {
    "scrolled": true
   },
   "outputs": [],
   "source": [
    "data['Rainfall_St1_lag2'] = data.Rainfall_St1.shift(2)\n",
    "data['Rainfall_St2_lag2'] = data.Rainfall_St2.shift(2)\n",
    "data['Rainfall_St3_lag2'] = data.Rainfall_St3.shift(2)"
   ]
  },
  {
   "cell_type": "code",
   "execution_count": 50,
   "id": "29d142e2",
   "metadata": {},
   "outputs": [],
   "source": [
    "#because lag of 12is not available for the first two entries, we need to cut it\n",
    "data  = data.iloc[2:,:]"
   ]
  },
  {
   "cell_type": "code",
   "execution_count": 51,
   "id": "781c2126",
   "metadata": {},
   "outputs": [],
   "source": [
    "X = data[['Month', 'season', 'Rainfall_St1',\n",
    "       'Rainfall_St2', 'Rainfall_St3', 'Temp',\n",
    "       'Rainfall_St1_lag1', 'Rainfall_St2_lag1', 'Rainfall_St3_lag1',\n",
    "         'Rainfall_St1_lag2', 'Rainfall_St2_lag2',\n",
    "       'Rainfall_St3_lag2']]\n",
    "y=y[2:]"
   ]
  },
  {
   "cell_type": "code",
   "execution_count": 52,
   "id": "61bf8df8",
   "metadata": {},
   "outputs": [],
   "source": [
    "#Daten aufteilen\n",
    "X_train, X_test, y_train, y_test = train_test_split(X, y, random_state=42)"
   ]
  },
  {
   "cell_type": "code",
   "execution_count": 53,
   "id": "15844e6c",
   "metadata": {},
   "outputs": [
    {
     "data": {
      "text/plain": [
       "RandomForestRegressor(min_samples_leaf=30, n_estimators=50, random_state=42)"
      ]
     },
     "execution_count": 53,
     "metadata": {},
     "output_type": "execute_result"
    }
   ],
   "source": [
    "rf = RandomForestRegressor(n_estimators=50, min_samples_leaf=30, random_state=42)\n",
    "rf.fit(X_train,y_train)"
   ]
  },
  {
   "cell_type": "code",
   "execution_count": 54,
   "id": "013cf5fa",
   "metadata": {},
   "outputs": [
    {
     "data": {
      "text/html": [
       "<div>\n",
       "<style scoped>\n",
       "    .dataframe tbody tr th:only-of-type {\n",
       "        vertical-align: middle;\n",
       "    }\n",
       "\n",
       "    .dataframe tbody tr th {\n",
       "        vertical-align: top;\n",
       "    }\n",
       "\n",
       "    .dataframe thead th {\n",
       "        text-align: right;\n",
       "    }\n",
       "</style>\n",
       "<table border=\"1\" class=\"dataframe\">\n",
       "  <thead>\n",
       "    <tr style=\"text-align: right;\">\n",
       "      <th></th>\n",
       "      <th>Attributname</th>\n",
       "      <th>Importance</th>\n",
       "    </tr>\n",
       "  </thead>\n",
       "  <tbody>\n",
       "    <tr>\n",
       "      <th>8</th>\n",
       "      <td>Rainfall_St3_lag1</td>\n",
       "      <td>0.857155</td>\n",
       "    </tr>\n",
       "    <tr>\n",
       "      <th>11</th>\n",
       "      <td>Rainfall_St3_lag2</td>\n",
       "      <td>0.064245</td>\n",
       "    </tr>\n",
       "    <tr>\n",
       "      <th>1</th>\n",
       "      <td>season</td>\n",
       "      <td>0.029311</td>\n",
       "    </tr>\n",
       "    <tr>\n",
       "      <th>10</th>\n",
       "      <td>Rainfall_St2_lag2</td>\n",
       "      <td>0.017564</td>\n",
       "    </tr>\n",
       "    <tr>\n",
       "      <th>3</th>\n",
       "      <td>Rainfall_St2</td>\n",
       "      <td>0.012891</td>\n",
       "    </tr>\n",
       "    <tr>\n",
       "      <th>6</th>\n",
       "      <td>Rainfall_St1_lag1</td>\n",
       "      <td>0.006264</td>\n",
       "    </tr>\n",
       "    <tr>\n",
       "      <th>0</th>\n",
       "      <td>Month</td>\n",
       "      <td>0.006243</td>\n",
       "    </tr>\n",
       "    <tr>\n",
       "      <th>4</th>\n",
       "      <td>Rainfall_St3</td>\n",
       "      <td>0.002255</td>\n",
       "    </tr>\n",
       "    <tr>\n",
       "      <th>5</th>\n",
       "      <td>Temp</td>\n",
       "      <td>0.001782</td>\n",
       "    </tr>\n",
       "    <tr>\n",
       "      <th>7</th>\n",
       "      <td>Rainfall_St2_lag1</td>\n",
       "      <td>0.001755</td>\n",
       "    </tr>\n",
       "    <tr>\n",
       "      <th>2</th>\n",
       "      <td>Rainfall_St1</td>\n",
       "      <td>0.000472</td>\n",
       "    </tr>\n",
       "    <tr>\n",
       "      <th>9</th>\n",
       "      <td>Rainfall_St1_lag2</td>\n",
       "      <td>0.000062</td>\n",
       "    </tr>\n",
       "  </tbody>\n",
       "</table>\n",
       "</div>"
      ],
      "text/plain": [
       "         Attributname  Importance\n",
       "8   Rainfall_St3_lag1    0.857155\n",
       "11  Rainfall_St3_lag2    0.064245\n",
       "1              season    0.029311\n",
       "10  Rainfall_St2_lag2    0.017564\n",
       "3        Rainfall_St2    0.012891\n",
       "6   Rainfall_St1_lag1    0.006264\n",
       "0               Month    0.006243\n",
       "4        Rainfall_St3    0.002255\n",
       "5                Temp    0.001782\n",
       "7   Rainfall_St2_lag1    0.001755\n",
       "2        Rainfall_St1    0.000472\n",
       "9   Rainfall_St1_lag2    0.000062"
      ]
     },
     "execution_count": 54,
     "metadata": {},
     "output_type": "execute_result"
    }
   ],
   "source": [
    "def display_feat_importance(rf):\n",
    "    df = pd.concat([pd.Series(X_train.columns), pd.Series(rf.feature_importances_)], axis = 1)\n",
    "    df.columns = ['Attributname', 'Importance']\n",
    "    return df.sort_values('Importance', ascending = False)\n",
    "\n",
    "rf_featimp =  display_feat_importance(rf)\n",
    "rf_featimp"
   ]
  },
  {
   "cell_type": "markdown",
   "id": "54346393",
   "metadata": {},
   "source": [
    "### More models"
   ]
  },
  {
   "cell_type": "markdown",
   "id": "026ac285",
   "metadata": {},
   "source": [
    "All models are also available for Regressor"
   ]
  },
  {
   "cell_type": "code",
   "execution_count": 55,
   "id": "810f6f30",
   "metadata": {},
   "outputs": [],
   "source": [
    "from sklearn.tree import DecisionTreeRegressor, plot_tree\n",
    "from sklearn.ensemble import RandomForestRegressor \n",
    "from sklearn.neighbors import KNeighborsRegressor\n",
    "from sklearn.neural_network import MLPRegressor\n",
    "from sklearn.svm import SVR\n",
    "\n",
    "from sklearn.metrics import mean_absolute_percentage_error, r2_score #be careful with MAPE"
   ]
  },
  {
   "cell_type": "code",
   "execution_count": 56,
   "id": "ac93b99a",
   "metadata": {},
   "outputs": [],
   "source": [
    "model_dict = {'Decisision Tree': DecisionTreeRegressor(min_impurity_decrease=0.01,random_state=42),\n",
    "            'Random Forest': RandomForestRegressor(random_state=42)}\n",
    "            #'k Nearest Neighbour': KNeighborsRegressor(),\n",
    "            #'SVC': SVR()}#,\n",
    "            #'Neuronal Net': MLPRegressor(max_iter=2000, random_state=42)}"
   ]
  },
  {
   "cell_type": "code",
   "execution_count": 57,
   "id": "e60e6e0a",
   "metadata": {},
   "outputs": [
    {
     "name": "stdout",
     "output_type": "stream",
     "text": [
      "Decisision Tree\n",
      "3.61\n",
      "0.56\n",
      "Random Forest\n",
      "3.09\n",
      "0.73\n"
     ]
    }
   ],
   "source": [
    "for name, model in model_dict.items():\n",
    "    print(name)\n",
    "    model.fit(X_train, y_train)\n",
    "    y_pred = model.predict(X_test)\n",
    "    print(np.round(mean_absolute_percentage_error(y_true=y_test, y_pred=y_pred),2))\n",
    "    print(np.round(r2_score(y_true=y_test, y_pred=y_pred),2))"
   ]
  },
  {
   "cell_type": "markdown",
   "id": "248ddd98",
   "metadata": {},
   "source": [
    "##### Predict the discharge"
   ]
  },
  {
   "cell_type": "code",
   "execution_count": 58,
   "id": "1712d76d",
   "metadata": {},
   "outputs": [],
   "source": [
    "sample_nb = 100"
   ]
  },
  {
   "cell_type": "code",
   "execution_count": 59,
   "id": "6d11ccd8",
   "metadata": {},
   "outputs": [
    {
     "data": {
      "text/html": [
       "<div>\n",
       "<style scoped>\n",
       "    .dataframe tbody tr th:only-of-type {\n",
       "        vertical-align: middle;\n",
       "    }\n",
       "\n",
       "    .dataframe tbody tr th {\n",
       "        vertical-align: top;\n",
       "    }\n",
       "\n",
       "    .dataframe thead th {\n",
       "        text-align: right;\n",
       "    }\n",
       "</style>\n",
       "<table border=\"1\" class=\"dataframe\">\n",
       "  <thead>\n",
       "    <tr style=\"text-align: right;\">\n",
       "      <th></th>\n",
       "      <th>Month</th>\n",
       "      <th>season</th>\n",
       "      <th>Rainfall_St1</th>\n",
       "      <th>Rainfall_St2</th>\n",
       "      <th>Rainfall_St3</th>\n",
       "      <th>Temp</th>\n",
       "      <th>Rainfall_St1_lag1</th>\n",
       "      <th>Rainfall_St2_lag1</th>\n",
       "      <th>Rainfall_St3_lag1</th>\n",
       "      <th>Rainfall_St1_lag2</th>\n",
       "      <th>Rainfall_St2_lag2</th>\n",
       "      <th>Rainfall_St3_lag2</th>\n",
       "    </tr>\n",
       "    <tr>\n",
       "      <th>Timestamp</th>\n",
       "      <th></th>\n",
       "      <th></th>\n",
       "      <th></th>\n",
       "      <th></th>\n",
       "      <th></th>\n",
       "      <th></th>\n",
       "      <th></th>\n",
       "      <th></th>\n",
       "      <th></th>\n",
       "      <th></th>\n",
       "      <th></th>\n",
       "      <th></th>\n",
       "    </tr>\n",
       "  </thead>\n",
       "  <tbody>\n",
       "    <tr>\n",
       "      <th>1990-06-05</th>\n",
       "      <td>6</td>\n",
       "      <td>3</td>\n",
       "      <td>0.0</td>\n",
       "      <td>0.0</td>\n",
       "      <td>1.1</td>\n",
       "      <td>37.6</td>\n",
       "      <td>0.0</td>\n",
       "      <td>0.0</td>\n",
       "      <td>0.2</td>\n",
       "      <td>6.0</td>\n",
       "      <td>20.0</td>\n",
       "      <td>0.0</td>\n",
       "    </tr>\n",
       "  </tbody>\n",
       "</table>\n",
       "</div>"
      ],
      "text/plain": [
       "            Month  season  Rainfall_St1  Rainfall_St2  Rainfall_St3  Temp  \\\n",
       "Timestamp                                                                   \n",
       "1990-06-05      6       3           0.0           0.0           1.1  37.6   \n",
       "\n",
       "            Rainfall_St1_lag1  Rainfall_St2_lag1  Rainfall_St3_lag1  \\\n",
       "Timestamp                                                             \n",
       "1990-06-05                0.0                0.0                0.2   \n",
       "\n",
       "            Rainfall_St1_lag2  Rainfall_St2_lag2  Rainfall_St3_lag2  \n",
       "Timestamp                                                            \n",
       "1990-06-05                6.0               20.0                0.0  "
      ]
     },
     "execution_count": 59,
     "metadata": {},
     "output_type": "execute_result"
    }
   ],
   "source": [
    "X_test.iloc[[sample_nb]]"
   ]
  },
  {
   "cell_type": "code",
   "execution_count": 60,
   "id": "24c94be7",
   "metadata": {},
   "outputs": [
    {
     "data": {
      "text/plain": [
       "array([4.48358083])"
      ]
     },
     "execution_count": 60,
     "metadata": {},
     "output_type": "execute_result"
    }
   ],
   "source": [
    "model_dict['Random Forest'].predict(X_test.iloc[[sample_nb]])"
   ]
  },
  {
   "cell_type": "code",
   "execution_count": 61,
   "id": "0755672b",
   "metadata": {},
   "outputs": [
    {
     "data": {
      "text/plain": [
       "Timestamp\n",
       "1990-06-05    1.2\n",
       "Name: Discharge, dtype: float64"
      ]
     },
     "execution_count": 61,
     "metadata": {},
     "output_type": "execute_result"
    }
   ],
   "source": [
    "y_test.iloc[[sample_nb]]"
   ]
  },
  {
   "cell_type": "code",
   "execution_count": 62,
   "id": "c1556b66",
   "metadata": {
    "scrolled": true
   },
   "outputs": [
    {
     "data": {
      "text/plain": [
       "Timestamp\n",
       "1991-04-16     9.651900\n",
       "1989-12-18    33.490500\n",
       "1988-10-21     0.106430\n",
       "1989-02-07     7.632740\n",
       "1990-07-05     0.183719\n",
       "                ...    \n",
       "1989-07-14     0.174777\n",
       "1988-05-04     2.817200\n",
       "1990-07-06     0.153757\n",
       "1990-03-02     5.676200\n",
       "1990-04-29    45.593360\n",
       "Length: 365, dtype: float64"
      ]
     },
     "execution_count": 62,
     "metadata": {},
     "output_type": "execute_result"
    }
   ],
   "source": [
    "pd.Series(y_pred, index = y_test.index)"
   ]
  },
  {
   "cell_type": "code",
   "execution_count": 63,
   "id": "d4daa319",
   "metadata": {},
   "outputs": [
    {
     "data": {
      "text/plain": [
       "[<matplotlib.lines.Line2D at 0x1bdf0b0a4c0>]"
      ]
     },
     "execution_count": 63,
     "metadata": {},
     "output_type": "execute_result"
    },
    {
     "data": {
      "image/png": "[encoded data removed]",
      "text/plain": [
       "<Figure size 1440x576 with 1 Axes>"
      ]
     },
     "metadata": {
      "needs_background": "light"
     },
     "output_type": "display_data"
    }
   ],
   "source": [
    "fig, ax = plt.subplots(figsize=(20,8))\n",
    "ax.plot(y_test.sort_index())\n",
    "ax.plot(pd.Series(y_pred, index = y_test.index).sort_index())\n",
    "#ax.plot(data.Timestamp, data.Discharge.values)\n",
    "#ax.legend(data.Year.unique());"
   ]
  },
  {
   "cell_type": "code",
   "execution_count": null,
   "id": "236e8de2",
   "metadata": {},
   "outputs": [],
   "source": []
  }
 ],
 "metadata": {
  "kernelspec": {
   "display_name": "Python 3",
   "language": "python",
   "name": "python3"
  },
  "language_info": {
   "codemirror_mode": {
    "name": "ipython",
    "version": 3
   },
   "file_extension": ".py",
   "mimetype": "text/x-python",
   "name": "python",
   "nbconvert_exporter": "python",
   "pygments_lexer": "ipython3",
   "version": "3.8.8"
  }
 },
 "nbformat": 4,
 "nbformat_minor": 5
}
